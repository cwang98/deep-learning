{
 "cells": [
  {
   "cell_type": "code",
   "execution_count": 1,
   "metadata": {},
   "outputs": [
    {
     "name": "stderr",
     "output_type": "stream",
     "text": [
      "Using TensorFlow backend.\n"
     ]
    }
   ],
   "source": [
    "import numpy as np\n",
    "from keras import layers\n",
    "from keras import models\n",
    "from keras.constraints import maxnorm\n",
    "from keras.optimizers import SGD, Adam\n",
    "from keras.utils import np_utils\n",
    "from keras.utils import to_categorical\n",
    "import keras\n",
    "\n",
    "import time\n",
    "import matplotlib.pyplot as plt\n",
    "\n",
    "import tensorflow as tf\n",
    "import multiprocessing as mp\n",
    " \n",
    "from keras.datasets import cifar10"
   ]
  },
  {
   "cell_type": "markdown",
   "metadata": {},
   "source": [
    "## Link to blog:\n",
    "https://medium.com/@chuqing_wang/cifar-10-image-classification-with-cnn-1adf4581fece"
   ]
  },
  {
   "cell_type": "code",
   "execution_count": 26,
   "metadata": {
    "collapsed": true
   },
   "outputs": [],
   "source": [
    "(x_train, y_train), (x_test, y_test) = cifar10.load_data()\n",
    "num_train, img_channels, img_rows, img_cols =  x_train.shape\n",
    "num_test, _, _, _ =  x_test.shape"
   ]
  },
  {
   "cell_type": "code",
   "execution_count": 27,
   "metadata": {},
   "outputs": [
    {
     "data": {
      "text/plain": [
       "(50000, 1)"
      ]
     },
     "execution_count": 27,
     "metadata": {},
     "output_type": "execute_result"
    }
   ],
   "source": [
    "y_train.shape"
   ]
  },
  {
   "cell_type": "code",
   "execution_count": 29,
   "metadata": {},
   "outputs": [],
   "source": [
    "y_train = tf.keras.utils.to_categorical(y_train, 10)\n",
    "y_test = tf.keras.utils.to_categorical(y_test,10)\n",
    "x_train = x_train.astype('float32')\n",
    "x_test = x_test.astype('float32')\n",
    "x_train  /= 255\n",
    "x_test /= 255"
   ]
  },
  {
   "cell_type": "code",
   "execution_count": 30,
   "metadata": {},
   "outputs": [
    {
     "data": {
      "text/plain": [
       "(50000, 10)"
      ]
     },
     "execution_count": 30,
     "metadata": {},
     "output_type": "execute_result"
    }
   ],
   "source": [
    "y_train.shape"
   ]
  },
  {
   "cell_type": "markdown",
   "metadata": {},
   "source": [
    "## CNN with 2 layers"
   ]
  },
  {
   "cell_type": "code",
   "execution_count": 44,
   "metadata": {},
   "outputs": [
    {
     "name": "stdout",
     "output_type": "stream",
     "text": [
      "_________________________________________________________________\n",
      "Layer (type)                 Output Shape              Param #   \n",
      "=================================================================\n",
      "conv2d_13 (Conv2D)           (None, 32, 32, 32)        896       \n",
      "_________________________________________________________________\n",
      "activation_17 (Activation)   (None, 32, 32, 32)        0         \n",
      "_________________________________________________________________\n",
      "conv2d_14 (Conv2D)           (None, 30, 30, 32)        9248      \n",
      "_________________________________________________________________\n",
      "activation_18 (Activation)   (None, 30, 30, 32)        0         \n",
      "_________________________________________________________________\n",
      "max_pooling2d_7 (MaxPooling2 (None, 15, 15, 32)        0         \n",
      "_________________________________________________________________\n",
      "dropout_7 (Dropout)          (None, 15, 15, 32)        0         \n",
      "_________________________________________________________________\n",
      "flatten_3 (Flatten)          (None, 7200)              0         \n",
      "_________________________________________________________________\n",
      "dense_5 (Dense)              (None, 128)               921728    \n",
      "_________________________________________________________________\n",
      "activation_19 (Activation)   (None, 128)               0         \n",
      "_________________________________________________________________\n",
      "dropout_8 (Dropout)          (None, 128)               0         \n",
      "_________________________________________________________________\n",
      "dense_6 (Dense)              (None, 10)                1290      \n",
      "_________________________________________________________________\n",
      "activation_20 (Activation)   (None, 10)                0         \n",
      "=================================================================\n",
      "Total params: 933,162\n",
      "Trainable params: 933,162\n",
      "Non-trainable params: 0\n",
      "_________________________________________________________________\n",
      "Train on 50000 samples, validate on 10000 samples\n",
      "Epoch 1/10\n",
      "50000/50000 [==============================] - 104s 2ms/step - loss: 2.3094 - acc: 0.1007 - val_loss: 2.3121 - val_acc: 0.1000\n",
      "Epoch 2/10\n",
      "50000/50000 [==============================] - 99s 2ms/step - loss: 2.3091 - acc: 0.0977 - val_loss: 2.3094 - val_acc: 0.1000\n",
      "Epoch 3/10\n",
      "50000/50000 [==============================] - 100s 2ms/step - loss: 2.3098 - acc: 0.0982 - val_loss: 2.3058 - val_acc: 0.1000\n",
      "Epoch 4/10\n",
      "50000/50000 [==============================] - 97s 2ms/step - loss: 2.3094 - acc: 0.0993 - val_loss: 2.3184 - val_acc: 0.1000\n",
      "Epoch 5/10\n",
      "50000/50000 [==============================] - 98s 2ms/step - loss: 2.3098 - acc: 0.0997 - val_loss: 2.3105 - val_acc: 0.1000\n",
      "Epoch 6/10\n",
      "50000/50000 [==============================] - 96s 2ms/step - loss: 2.3087 - acc: 0.1021 - val_loss: 2.3097 - val_acc: 0.1000\n",
      "Epoch 7/10\n",
      "50000/50000 [==============================] - 99s 2ms/step - loss: 2.3095 - acc: 0.1024 - val_loss: 2.3054 - val_acc: 0.1000\n",
      "Epoch 8/10\n",
      "50000/50000 [==============================] - 103s 2ms/step - loss: 2.3094 - acc: 0.0993 - val_loss: 2.3075 - val_acc: 0.1000\n",
      "Epoch 9/10\n",
      "50000/50000 [==============================] - 99s 2ms/step - loss: 2.3094 - acc: 0.0992 - val_loss: 2.3134 - val_acc: 0.1000\n",
      "Epoch 10/10\n",
      "50000/50000 [==============================] - 98s 2ms/step - loss: 2.3094 - acc: 0.1008 - val_loss: 2.3070 - val_acc: 0.1000\n"
     ]
    },
    {
     "data": {
      "text/plain": [
       "<keras.callbacks.History at 0x13146c7b8>"
      ]
     },
     "execution_count": 44,
     "metadata": {},
     "output_type": "execute_result"
    }
   ],
   "source": [
    "model1 = models.Sequential()\n",
    "model1.add(layers.Conv2D(32, (3, 3), padding='same', input_shape=x_train.shape[1:]))\n",
    "model1.add(layers.Activation('relu'))\n",
    "model1.add(layers.Conv2D(32,(3, 3)))\n",
    "model1.add(layers.Activation('relu'))\n",
    "model1.add(layers.MaxPooling2D(pool_size=(2, 2)))\n",
    "model1.add(layers.Dropout(0.25))\n",
    "\n",
    "model1.add(layers.Flatten())\n",
    "model1.add(layers.Dense(128))\n",
    "model1.add(layers.Activation('relu'))\n",
    "model1.add(layers.Dropout(0.5))\n",
    "model1.add(layers.Dense(num_classes))\n",
    "model1.add(layers.Activation('softmax'))\n",
    "\n",
    "sgd = SGD(lr = 0.1, decay=1e-6, momentum=0.9, nesterov=True)\n",
    "\n",
    "# Train model\n",
    "\n",
    "model1.compile(loss='categorical_crossentropy', optimizer=sgd, metrics=['accuracy'])\n",
    "\n",
    "model1.summary()\n",
    "\n",
    "# Fit model\n",
    "\n",
    "model1.fit(x_train, y_train, batch_size=32, epochs=10, validation_data=(x_test,y_test),shuffle=True)"
   ]
  },
  {
   "cell_type": "code",
   "execution_count": 45,
   "metadata": {},
   "outputs": [
    {
     "name": "stdout",
     "output_type": "stream",
     "text": [
      "10000/10000 [==============================] - 11s 1ms/step\n"
     ]
    }
   ],
   "source": [
    "score1 = model.evaluate(x_test, y_test, verbose = 1)"
   ]
  },
  {
   "cell_type": "code",
   "execution_count": 46,
   "metadata": {},
   "outputs": [
    {
     "data": {
      "text/plain": [
       "[2.3161230754852293, 0.10000000000000001]"
      ]
     },
     "execution_count": 46,
     "metadata": {},
     "output_type": "execute_result"
    }
   ],
   "source": [
    "score1"
   ]
  },
  {
   "cell_type": "markdown",
   "metadata": {},
   "source": [
    "## CNN with 4 layers"
   ]
  },
  {
   "cell_type": "code",
   "execution_count": 33,
   "metadata": {},
   "outputs": [
    {
     "name": "stdout",
     "output_type": "stream",
     "text": [
      "_________________________________________________________________\n",
      "Layer (type)                 Output Shape              Param #   \n",
      "=================================================================\n",
      "conv2d_9 (Conv2D)            (None, 32, 32, 32)        896       \n",
      "_________________________________________________________________\n",
      "activation_11 (Activation)   (None, 32, 32, 32)        0         \n",
      "_________________________________________________________________\n",
      "conv2d_10 (Conv2D)           (None, 30, 30, 32)        9248      \n",
      "_________________________________________________________________\n",
      "activation_12 (Activation)   (None, 30, 30, 32)        0         \n",
      "_________________________________________________________________\n",
      "max_pooling2d_5 (MaxPooling2 (None, 15, 15, 32)        0         \n",
      "_________________________________________________________________\n",
      "dropout_4 (Dropout)          (None, 15, 15, 32)        0         \n",
      "_________________________________________________________________\n",
      "conv2d_11 (Conv2D)           (None, 15, 15, 64)        18496     \n",
      "_________________________________________________________________\n",
      "activation_13 (Activation)   (None, 15, 15, 64)        0         \n",
      "_________________________________________________________________\n",
      "conv2d_12 (Conv2D)           (None, 13, 13, 64)        36928     \n",
      "_________________________________________________________________\n",
      "activation_14 (Activation)   (None, 13, 13, 64)        0         \n",
      "_________________________________________________________________\n",
      "max_pooling2d_6 (MaxPooling2 (None, 6, 6, 64)          0         \n",
      "_________________________________________________________________\n",
      "dropout_5 (Dropout)          (None, 6, 6, 64)          0         \n",
      "_________________________________________________________________\n",
      "flatten_2 (Flatten)          (None, 2304)              0         \n",
      "_________________________________________________________________\n",
      "dense_3 (Dense)              (None, 512)               1180160   \n",
      "_________________________________________________________________\n",
      "activation_15 (Activation)   (None, 512)               0         \n",
      "_________________________________________________________________\n",
      "dropout_6 (Dropout)          (None, 512)               0         \n",
      "_________________________________________________________________\n",
      "dense_4 (Dense)              (None, 10)                5130      \n",
      "_________________________________________________________________\n",
      "activation_16 (Activation)   (None, 10)                0         \n",
      "=================================================================\n",
      "Total params: 1,250,858\n",
      "Trainable params: 1,250,858\n",
      "Non-trainable params: 0\n",
      "_________________________________________________________________\n",
      "Train on 50000 samples, validate on 10000 samples\n",
      "Epoch 1/10\n",
      "50000/50000 [==============================] - 172s 3ms/step - loss: 2.3100 - acc: 0.1005 - val_loss: 2.3076 - val_acc: 0.1000\n",
      "Epoch 2/10\n",
      "50000/50000 [==============================] - 178s 4ms/step - loss: 2.3090 - acc: 0.0998 - val_loss: 2.3075 - val_acc: 0.1000\n",
      "Epoch 3/10\n",
      "50000/50000 [==============================] - 167s 3ms/step - loss: 2.3091 - acc: 0.0996 - val_loss: 2.3113 - val_acc: 0.1000\n",
      "Epoch 4/10\n",
      "50000/50000 [==============================] - 165s 3ms/step - loss: 2.3095 - acc: 0.0998 - val_loss: 2.3111 - val_acc: 0.1000\n",
      "Epoch 5/10\n",
      "50000/50000 [==============================] - 171s 3ms/step - loss: 2.3093 - acc: 0.0976 - val_loss: 2.3114 - val_acc: 0.1000\n",
      "Epoch 6/10\n",
      "50000/50000 [==============================] - 175s 3ms/step - loss: 2.3091 - acc: 0.1010 - val_loss: 2.3107 - val_acc: 0.1000\n",
      "Epoch 7/10\n",
      "50000/50000 [==============================] - 169s 3ms/step - loss: 2.3090 - acc: 0.0998 - val_loss: 2.3175 - val_acc: 0.1000\n",
      "Epoch 8/10\n",
      "50000/50000 [==============================] - 179s 4ms/step - loss: 2.3091 - acc: 0.1001 - val_loss: 2.3072 - val_acc: 0.1000\n",
      "Epoch 9/10\n",
      "50000/50000 [==============================] - 172s 3ms/step - loss: 2.3093 - acc: 0.0996 - val_loss: 2.3095 - val_acc: 0.1000\n",
      "Epoch 10/10\n",
      "50000/50000 [==============================] - 170s 3ms/step - loss: 2.3093 - acc: 0.0983 - val_loss: 2.3161 - val_acc: 0.1000\n"
     ]
    },
    {
     "data": {
      "text/plain": [
       "<keras.callbacks.History at 0x12fe18470>"
      ]
     },
     "execution_count": 33,
     "metadata": {},
     "output_type": "execute_result"
    }
   ],
   "source": [
    "model = models.Sequential()\n",
    "model.add(layers.Conv2D(32, (3, 3), padding='same', input_shape=x_train.shape[1:]))\n",
    "model.add(layers.Activation('relu'))\n",
    "model.add(layers.Conv2D(32,(3, 3)))\n",
    "model.add(layers.Activation('relu'))\n",
    "model.add(layers.MaxPooling2D(pool_size=(2, 2)))\n",
    "model.add(layers.Dropout(0.25))\n",
    "\n",
    "model.add(layers.Conv2D(64, (3, 3), padding='same'))\n",
    "model.add(layers.Activation('relu'))\n",
    "model.add(layers.Conv2D(64, (3,3)))\n",
    "model.add(layers.Activation('relu'))\n",
    "model.add(layers.MaxPooling2D(pool_size=(2, 2)))\n",
    "model.add(layers.Dropout(0.25))\n",
    "\n",
    "model.add(layers.Flatten())\n",
    "model.add(layers.Dense(512))\n",
    "model.add(layers.Activation('relu'))\n",
    "model.add(layers.Dropout(0.5))\n",
    "model.add(layers.Dense(num_classes))\n",
    "model.add(layers.Activation('softmax'))\n",
    "\n",
    "sgd = SGD(lr = 0.1, decay=1e-6, momentum=0.9, nesterov=True)\n",
    "\n",
    "# Train model\n",
    "\n",
    "model.compile(loss='categorical_crossentropy', optimizer=sgd, metrics=['accuracy'])\n",
    "\n",
    "model.summary()\n",
    "\n",
    "# Fit model\n",
    "\n",
    "model.fit(x_train, y_train, batch_size=32, epochs=10, validation_data=(x_test,y_test),shuffle=True)"
   ]
  },
  {
   "cell_type": "code",
   "execution_count": 41,
   "metadata": {},
   "outputs": [
    {
     "name": "stdout",
     "output_type": "stream",
     "text": [
      "10000/10000 [==============================] - 11s 1ms/step\n"
     ]
    }
   ],
   "source": [
    "score = model.evaluate(x_test, y_test, verbose = 1)"
   ]
  },
  {
   "cell_type": "code",
   "execution_count": 43,
   "metadata": {},
   "outputs": [
    {
     "data": {
      "text/plain": [
       "[2.3161230754852293, 0.10000000000000001]"
      ]
     },
     "execution_count": 43,
     "metadata": {},
     "output_type": "execute_result"
    }
   ],
   "source": [
    "score"
   ]
  },
  {
   "cell_type": "code",
   "execution_count": null,
   "metadata": {
    "collapsed": true
   },
   "outputs": [],
   "source": []
  }
 ],
 "metadata": {
  "kernelspec": {
   "display_name": "Python 3",
   "language": "python",
   "name": "python3"
  },
  "language_info": {
   "codemirror_mode": {
    "name": "ipython",
    "version": 3
   },
   "file_extension": ".py",
   "mimetype": "text/x-python",
   "name": "python",
   "nbconvert_exporter": "python",
   "pygments_lexer": "ipython3",
   "version": "3.6.1"
  }
 },
 "nbformat": 4,
 "nbformat_minor": 2
}
