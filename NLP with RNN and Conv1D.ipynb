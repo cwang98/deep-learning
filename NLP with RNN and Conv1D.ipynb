{
 "cells": [
  {
   "cell_type": "code",
   "execution_count": 21,
   "metadata": {},
   "outputs": [],
   "source": [
    "from keras.preprocessing import sequence\n",
    "from keras.models import Sequential\n",
    "from keras.layers import Dense, Dropout, Activation, Embedding, Conv1D, GlobalMaxPooling1D, LSTM, SimpleRNN\n",
    "from keras.datasets import imdb"
   ]
  },
  {
   "cell_type": "markdown",
   "metadata": {},
   "source": [
    "## Link to my blog:\n",
    "https://medium.com/@chuqing_wang/natural-language-processing-on-text-classification-bda9afa063a5"
   ]
  },
  {
   "cell_type": "code",
   "execution_count": 17,
   "metadata": {},
   "outputs": [
    {
     "name": "stdout",
     "output_type": "stream",
     "text": [
      "25000 train sequences\n",
      "25000 test sequences\n",
      "x_train shape: (25000, 400)\n",
      "x_test shape: (25000, 400)\n"
     ]
    }
   ],
   "source": [
    "(x_train, y_train), (x_test, y_test) = imdb.load_data(num_words=5000)\n",
    "print(len(x_train), 'train sequences')\n",
    "print(len(x_test), 'test sequences')\n",
    "\n",
    "x_train = sequence.pad_sequences(x_train, maxlen=400)\n",
    "x_test = sequence.pad_sequences(x_test, maxlen=400)\n",
    "print('x_train shape:', x_train.shape)\n",
    "print('x_test shape:', x_test.shape)"
   ]
  },
  {
   "cell_type": "markdown",
   "metadata": {},
   "source": [
    "## Using Convolution1D"
   ]
  },
  {
   "cell_type": "code",
   "execution_count": 18,
   "metadata": {},
   "outputs": [
    {
     "name": "stdout",
     "output_type": "stream",
     "text": [
      "_________________________________________________________________\n",
      "Layer (type)                 Output Shape              Param #   \n",
      "=================================================================\n",
      "embedding_6 (Embedding)      (None, 400, 50)           250000    \n",
      "_________________________________________________________________\n",
      "dropout_3 (Dropout)          (None, 400, 50)           0         \n",
      "_________________________________________________________________\n",
      "conv1d_2 (Conv1D)            (None, 398, 250)          37750     \n",
      "_________________________________________________________________\n",
      "global_max_pooling1d_2 (Glob (None, 250)               0         \n",
      "_________________________________________________________________\n",
      "dense_4 (Dense)              (None, 250)               62750     \n",
      "_________________________________________________________________\n",
      "dropout_4 (Dropout)          (None, 250)               0         \n",
      "_________________________________________________________________\n",
      "activation_3 (Activation)    (None, 250)               0         \n",
      "_________________________________________________________________\n",
      "dense_5 (Dense)              (None, 1)                 251       \n",
      "_________________________________________________________________\n",
      "activation_4 (Activation)    (None, 1)                 0         \n",
      "=================================================================\n",
      "Total params: 350,751\n",
      "Trainable params: 350,751\n",
      "Non-trainable params: 0\n",
      "_________________________________________________________________\n"
     ]
    }
   ],
   "source": [
    "model = Sequential()\n",
    "\n",
    "model.add(Embedding(5000,\n",
    "                    50,\n",
    "                    input_length=400))\n",
    "model.add(Dropout(0.25))\n",
    "\n",
    "#Convolution1D, which will learn filters\n",
    "model.add(Conv1D(250,\n",
    "                 3,\n",
    "                 padding='valid',\n",
    "                 activation='relu',\n",
    "                 strides=1))\n",
    "#max pooling:\n",
    "model.add(GlobalMaxPooling1D())\n",
    "\n",
    "#hidden layer:\n",
    "model.add(Dense(250))\n",
    "model.add(Dropout(0.25))\n",
    "model.add(Activation('relu'))\n",
    "\n",
    "#output layer:\n",
    "model.add(Dense(1))\n",
    "model.add(Activation('sigmoid'))\n",
    "\n",
    "model.summary()\n"
   ]
  },
  {
   "cell_type": "code",
   "execution_count": 19,
   "metadata": {},
   "outputs": [
    {
     "name": "stdout",
     "output_type": "stream",
     "text": [
      "Train on 25000 samples, validate on 25000 samples\n",
      "Epoch 1/10\n",
      "25000/25000 [==============================] - 115s 5ms/step - loss: 0.4137 - acc: 0.7904 - val_loss: 0.3397 - val_acc: 0.8549\n",
      "Epoch 2/10\n",
      "25000/25000 [==============================] - 116s 5ms/step - loss: 0.2414 - acc: 0.9022 - val_loss: 0.2696 - val_acc: 0.8856\n",
      "Epoch 3/10\n",
      "25000/25000 [==============================] - 114s 5ms/step - loss: 0.1762 - acc: 0.9323 - val_loss: 0.2703 - val_acc: 0.8910\n",
      "Epoch 4/10\n",
      "25000/25000 [==============================] - 114s 5ms/step - loss: 0.1317 - acc: 0.9518 - val_loss: 0.3033 - val_acc: 0.8878\n",
      "Epoch 5/10\n",
      "25000/25000 [==============================] - 117s 5ms/step - loss: 0.0949 - acc: 0.9652 - val_loss: 0.3520 - val_acc: 0.8816\n",
      "Epoch 6/10\n",
      "25000/25000 [==============================] - 115s 5ms/step - loss: 0.0678 - acc: 0.9765 - val_loss: 0.3696 - val_acc: 0.8820\n",
      "Epoch 7/10\n",
      "25000/25000 [==============================] - 117s 5ms/step - loss: 0.0591 - acc: 0.9785 - val_loss: 0.4175 - val_acc: 0.8793\n",
      "Epoch 8/10\n",
      "25000/25000 [==============================] - 118s 5ms/step - loss: 0.0540 - acc: 0.9791 - val_loss: 0.4553 - val_acc: 0.8786\n",
      "Epoch 9/10\n",
      "25000/25000 [==============================] - 115s 5ms/step - loss: 0.0432 - acc: 0.9845 - val_loss: 0.4545 - val_acc: 0.8868\n",
      "Epoch 10/10\n",
      "25000/25000 [==============================] - 113s 5ms/step - loss: 0.0381 - acc: 0.9857 - val_loss: 0.4785 - val_acc: 0.8830\n"
     ]
    }
   ],
   "source": [
    "model.compile(loss='binary_crossentropy',\n",
    "              optimizer='adam',\n",
    "              metrics=['accuracy'])\n",
    "history = model.fit(x_train, y_train,\n",
    "          batch_size=32,\n",
    "          epochs=10,\n",
    "          validation_data=(x_test, y_test))"
   ]
  },
  {
   "cell_type": "code",
   "execution_count": 26,
   "metadata": {},
   "outputs": [
    {
     "name": "stdout",
     "output_type": "stream",
     "text": [
      "25000/25000 [==============================] - 15s 619us/step\n"
     ]
    },
    {
     "data": {
      "text/plain": [
       "[0.478515706602335, 0.88304000000000005]"
      ]
     },
     "execution_count": 26,
     "metadata": {},
     "output_type": "execute_result"
    }
   ],
   "source": [
    "score = model.evaluate(x_test, y_test, verbose = 1)\n",
    "score"
   ]
  },
  {
   "cell_type": "code",
   "execution_count": 20,
   "metadata": {},
   "outputs": [
    {
     "data": {
      "image/png": "[encoded data removed]",
      "text/plain": [
       "<matplotlib.figure.Figure at 0x139f0c400>"
      ]
     },
     "metadata": {},
     "output_type": "display_data"
    },
    {
     "data": {
      "image/png": "[encoded data removed]",
      "text/plain": [
       "<matplotlib.figure.Figure at 0x139fb4748>"
      ]
     },
     "metadata": {},
     "output_type": "display_data"
    }
   ],
   "source": [
    "import matplotlib.pyplot as plt\n",
    "\n",
    "acc = history.history['acc']\n",
    "val_acc = history.history['val_acc']\n",
    "loss = history.history['loss']\n",
    "val_loss = history.history['val_loss']\n",
    "\n",
    "epochs = range(len(acc))\n",
    "\n",
    "plt.plot(epochs, acc, 'bo', label='Training acc')\n",
    "plt.plot(epochs, val_acc, 'b', label='Validation acc')\n",
    "plt.title('Training and validation accuracy')\n",
    "plt.legend()\n",
    "\n",
    "plt.figure()\n",
    "\n",
    "plt.plot(epochs, loss, 'bo', label='Training loss')\n",
    "plt.plot(epochs, val_loss, 'b', label='Validation loss')\n",
    "plt.title('Training and validation loss')\n",
    "plt.legend()\n",
    "\n",
    "plt.show()"
   ]
  },
  {
   "cell_type": "markdown",
   "metadata": {},
   "source": [
    "## Using RNN"
   ]
  },
  {
   "cell_type": "code",
   "execution_count": 23,
   "metadata": {},
   "outputs": [
    {
     "name": "stdout",
     "output_type": "stream",
     "text": [
      "_________________________________________________________________\n",
      "Layer (type)                 Output Shape              Param #   \n",
      "=================================================================\n",
      "embedding_8 (Embedding)      (None, 400, 50)           250000    \n",
      "_________________________________________________________________\n",
      "dropout_6 (Dropout)          (None, 400, 50)           0         \n",
      "_________________________________________________________________\n",
      "simple_rnn_9 (SimpleRNN)     (None, 50)                5050      \n",
      "_________________________________________________________________\n",
      "dense_6 (Dense)              (None, 250)               12750     \n",
      "_________________________________________________________________\n",
      "dropout_7 (Dropout)          (None, 250)               0         \n",
      "_________________________________________________________________\n",
      "activation_5 (Activation)    (None, 250)               0         \n",
      "_________________________________________________________________\n",
      "dense_7 (Dense)              (None, 1)                 251       \n",
      "_________________________________________________________________\n",
      "activation_6 (Activation)    (None, 1)                 0         \n",
      "=================================================================\n",
      "Total params: 268,051\n",
      "Trainable params: 268,051\n",
      "Non-trainable params: 0\n",
      "_________________________________________________________________\n"
     ]
    }
   ],
   "source": [
    "model_rnn = Sequential()\n",
    "\n",
    "model_rnn.add(Embedding(5000,\n",
    "                    50,\n",
    "                    input_length=400))\n",
    "model_rnn.add(Dropout(0.25))\n",
    "\n",
    "#SimpleRNN\n",
    "model_rnn.add(SimpleRNN(50))\n",
    "\n",
    "#hidden layer:\n",
    "model_rnn.add(Dense(250))\n",
    "model_rnn.add(Dropout(0.25))\n",
    "model_rnn.add(Activation('relu'))\n",
    "\n",
    "#output layer:\n",
    "model_rnn.add(Dense(1))\n",
    "model_rnn.add(Activation('sigmoid'))\n",
    "\n",
    "model_rnn.summary()"
   ]
  },
  {
   "cell_type": "code",
   "execution_count": 24,
   "metadata": {},
   "outputs": [
    {
     "name": "stdout",
     "output_type": "stream",
     "text": [
      "Train on 25000 samples, validate on 25000 samples\n",
      "Epoch 1/10\n",
      "25000/25000 [==============================] - 91s 4ms/step - loss: 0.5866 - acc: 0.6596 - val_loss: 0.3968 - val_acc: 0.8336\n",
      "Epoch 2/10\n",
      "25000/25000 [==============================] - 89s 4ms/step - loss: 0.4311 - acc: 0.8012 - val_loss: 0.5126 - val_acc: 0.7399\n",
      "Epoch 3/10\n",
      "25000/25000 [==============================] - 90s 4ms/step - loss: 0.3966 - acc: 0.8214 - val_loss: 0.4047 - val_acc: 0.8410\n",
      "Epoch 4/10\n",
      "25000/25000 [==============================] - 92s 4ms/step - loss: 0.4114 - acc: 0.8123 - val_loss: 0.4080 - val_acc: 0.8355\n",
      "Epoch 5/10\n",
      "25000/25000 [==============================] - 90s 4ms/step - loss: 0.3289 - acc: 0.8652 - val_loss: 0.5182 - val_acc: 0.7969\n",
      "Epoch 6/10\n",
      "25000/25000 [==============================] - 91s 4ms/step - loss: 0.4165 - acc: 0.8074 - val_loss: 0.4272 - val_acc: 0.8327\n",
      "Epoch 7/10\n",
      "25000/25000 [==============================] - 90s 4ms/step - loss: 0.3341 - acc: 0.8656 - val_loss: 0.4161 - val_acc: 0.8244\n",
      "Epoch 8/10\n",
      "25000/25000 [==============================] - 91s 4ms/step - loss: 0.3767 - acc: 0.8392 - val_loss: 0.4695 - val_acc: 0.7888\n",
      "Epoch 9/10\n",
      "25000/25000 [==============================] - 91s 4ms/step - loss: 0.4582 - acc: 0.7724 - val_loss: 0.5908 - val_acc: 0.6837\n",
      "Epoch 10/10\n",
      "25000/25000 [==============================] - 91s 4ms/step - loss: 0.4515 - acc: 0.7827 - val_loss: 0.5552 - val_acc: 0.7295\n"
     ]
    }
   ],
   "source": [
    "model_rnn.compile(loss='binary_crossentropy',\n",
    "              optimizer='adam',\n",
    "              metrics=['accuracy'])\n",
    "history_rnn = model_rnn.fit(x_train, y_train,\n",
    "          batch_size=32,\n",
    "          epochs=10,\n",
    "          validation_data=(x_test, y_test))"
   ]
  },
  {
   "cell_type": "code",
   "execution_count": 25,
   "metadata": {},
   "outputs": [
    {
     "name": "stdout",
     "output_type": "stream",
     "text": [
      "25000/25000 [==============================] - 21s 822us/step\n"
     ]
    },
    {
     "data": {
      "text/plain": [
       "[0.55519029062271119, 0.72951999999999995]"
      ]
     },
     "execution_count": 25,
     "metadata": {},
     "output_type": "execute_result"
    }
   ],
   "source": [
    "score = model_rnn.evaluate(x_test, y_test, verbose = 1)\n",
    "score"
   ]
  },
  {
   "cell_type": "code",
   "execution_count": 27,
   "metadata": {},
   "outputs": [
    {
     "data": {
      "image/png": "[encoded data removed]",
      "text/plain": [
       "<matplotlib.figure.Figure at 0x139f41860>"
      ]
     },
     "metadata": {},
     "output_type": "display_data"
    },
    {
     "data": {
      "image/png": "[encoded data removed]",
      "text/plain": [
       "<matplotlib.figure.Figure at 0x11fe58b00>"
      ]
     },
     "metadata": {},
     "output_type": "display_data"
    }
   ],
   "source": [
    "import matplotlib.pyplot as plt\n",
    "\n",
    "acc = history_rnn.history['acc']\n",
    "val_acc = history_rnn.history['val_acc']\n",
    "loss = history_rnn.history['loss']\n",
    "val_loss = history_rnn.history['val_loss']\n",
    "\n",
    "epochs = range(len(acc))\n",
    "\n",
    "plt.plot(epochs, acc, 'bo', label='Training acc')\n",
    "plt.plot(epochs, val_acc, 'b', label='Validation acc')\n",
    "plt.title('Training and validation accuracy')\n",
    "plt.legend()\n",
    "\n",
    "plt.figure()\n",
    "\n",
    "plt.plot(epochs, loss, 'bo', label='Training loss')\n",
    "plt.plot(epochs, val_loss, 'b', label='Validation loss')\n",
    "plt.title('Training and validation loss')\n",
    "plt.legend()\n",
    "\n",
    "plt.show()"
   ]
  },
  {
   "cell_type": "code",
   "execution_count": null,
   "metadata": {
    "collapsed": true
   },
   "outputs": [],
   "source": []
  }
 ],
 "metadata": {
  "kernelspec": {
   "display_name": "Python 3",
   "language": "python",
   "name": "python3"
  },
  "language_info": {
   "codemirror_mode": {
    "name": "ipython",
    "version": 3
   },
   "file_extension": ".py",
   "mimetype": "text/x-python",
   "name": "python",
   "nbconvert_exporter": "python",
   "pygments_lexer": "ipython3",
   "version": "3.6.1"
  }
 },
 "nbformat": 4,
 "nbformat_minor": 2
}
